{
  "cells": [
    {
      "cell_type": "markdown",
      "metadata": {
        "id": "view-in-github",
        "colab_type": "text"
      },
      "source": [
        "<a href=\"https://colab.research.google.com/github/AndrewstheBuilder/machine_translation_French-Wolof/blob/main/RNN_LSTM.ipynb\" target=\"_parent\"><img src=\"https://colab.research.google.com/assets/colab-badge.svg\" alt=\"Open In Colab\"/></a>"
      ]
    },
    {
      "cell_type": "markdown",
      "metadata": {
        "id": "dEWZ1wO0dPgY"
      },
      "source": [
        "Definition of RNN from Karpathy:\n",
        "RNN Forward Pass Template(This is the paradigm for most of them probably. I have already seen two implementations following this paradigm):\n",
        "```python\n",
        "class RNN:\n",
        "  # ...\n",
        "  def step(self, x):\n",
        "    # update the hidden state\n",
        "    self.h = np.tanh(np.dot(self.W_hh, self.h) + np.dot(self.W_xh, x)) # self.h is the hidden state, x is the input.\n",
        "    # those weight matrices W_hh and W_xh are solely used for the hidden state and input respectively\n",
        "    # compute the output vector\n",
        "    y = np.dot(self.W_hy, self.h) # self.W_hy is solely used for the hidden state\n",
        "    return y\n",
        "```"
      ]
    },
    {
      "cell_type": "markdown",
      "metadata": {
        "id": "ZpfsRPOHdPga"
      },
      "source": [
        "Why is this addition used with the hidden state and the current input. How can I think about it conceptually? I think it makes sense on a abstract level. The previous sequence is influencing the current input. Also the third *np.dot(self.W_hy, self.h)*. Why do we do that third step?"
      ]
    },
    {
      "cell_type": "code",
      "execution_count": null,
      "metadata": {
        "id": "bv0gmB71dPga"
      },
      "outputs": [],
      "source": [
        "# RNN Implementation from Grokking Learning\n",
        "import sys\n",
        "\n",
        "f = open('grokking_rnn/reviews.txt')\n",
        "raw_reviews = f.readlines()\n",
        "f.close()\n",
        "\n",
        "f = open('grokking_rnn/labels.txt')\n",
        "raw_labels = f.readlines()\n",
        "f.close()\n",
        "\n",
        "tokens = list(map(lambda x:set(x.split(\" \")),raw_reviews))\n",
        "\n",
        "vocab = set()\n",
        "for sent in tokens:\n",
        "    for word in sent:\n",
        "        if(len(word)>0):\n",
        "            vocab.add(word)\n",
        "vocab = list(vocab)\n",
        "\n",
        "word2index = {}\n",
        "for i,word in enumerate(vocab):\n",
        "    word2index[word]=i\n",
        "\n",
        "input_dataset = list()\n",
        "for sent in tokens:\n",
        "    sent_indices = list()\n",
        "    for word in sent:\n",
        "        try:\n",
        "            sent_indices.append(word2index[word])\n",
        "        except:\n",
        "            \"\"\n",
        "    input_dataset.append(list(set(sent_indices))) # Meaning you do not include duplicate words in your input dataset.\n",
        "    # And the ordering of words do not matter in the input dataset.\n",
        "    # Just the content of words and they are only accounted for a single occurrence.\n",
        "target_dataset = list()\n",
        "for label in raw_labels:\n",
        "    if label == 'positive\\n':\n",
        "        target_dataset.append(1)\n",
        "    else:\n",
        "        target_dataset.append(0)"
      ]
    },
    {
      "cell_type": "code",
      "execution_count": null,
      "metadata": {
        "id": "px60IMT3dPgb"
      },
      "outputs": [],
      "source": [
        "raw_reviews[:1]\n",
        "# raw_labels[:2]"
      ]
    },
    {
      "cell_type": "code",
      "execution_count": null,
      "metadata": {
        "id": "naX4oFHrdPgc"
      },
      "outputs": [],
      "source": [
        "tokens[:1]"
      ]
    },
    {
      "cell_type": "code",
      "execution_count": null,
      "metadata": {
        "id": "cU-vpAcOdPgd"
      },
      "outputs": [],
      "source": [
        "input_dataset[:1]"
      ]
    },
    {
      "cell_type": "code",
      "execution_count": null,
      "metadata": {
        "id": "TH-_jf5PdPge"
      },
      "outputs": [],
      "source": [
        "import numpy as np\n",
        "import seaborn as sns"
      ]
    },
    {
      "cell_type": "code",
      "execution_count": null,
      "metadata": {
        "id": "NhF7-w2GdPgf"
      },
      "outputs": [],
      "source": [
        "import sys,random,math\n",
        "from collections import Counter\n",
        "import numpy as np\n",
        "import seaborn as sns\n",
        "\n",
        "np.random.seed(1)\n",
        "random.seed(1)\n",
        "f = open('grokking_rnn/reviews.txt')\n",
        "raw_reviews = f.readlines()\n",
        "f.close()\n",
        "\n",
        "tokens = list(map(lambda x:(x.split(\" \")),raw_reviews))\n",
        "wordcnt = Counter()\n",
        "for sent in tokens:\n",
        "    for word in sent:\n",
        "        wordcnt[word] -= 1\n",
        "vocab = list(set(map(lambda x:x[0],wordcnt.most_common())))\n",
        "# It puts the least common words up in the beginning of the vocab\n",
        "# Why is that?\n",
        "\n",
        "word2index = {}\n",
        "for i,word in enumerate(vocab):\n",
        "    word2index[word]=i\n",
        "\n",
        "concatenated = list()\n",
        "input_dataset = list()\n",
        "for sent in tokens:\n",
        "    sent_indices = list()\n",
        "    for word in sent:\n",
        "        try:\n",
        "            sent_indices.append(word2index[word])\n",
        "            concatenated.append(word2index[word])\n",
        "        except:\n",
        "            \"\"\n",
        "    input_dataset.append(sent_indices)\n",
        "concatenated = np.array(concatenated) # contenated is used later for????\n",
        "# Its the same as input_dataset except that it does not get shuffled like below\n",
        "random.shuffle(input_dataset)"
      ]
    },
    {
      "cell_type": "code",
      "execution_count": null,
      "metadata": {
        "id": "dd2j30VWdPgg"
      },
      "outputs": [],
      "source": [
        "alpha, iterations = (0.05, 2)\n",
        "hidden_size,window,negative = (50,2,5)\n",
        "\n",
        "weights_0_1 = (np.random.rand(len(vocab),hidden_size) - 0.5) * 0.2\n",
        "weights_1_2 = np.random.rand(len(vocab),hidden_size)*0\n",
        "\n",
        "layer_2_target = np.zeros(negative+1)\n",
        "layer_2_target[0] = 1"
      ]
    },
    {
      "cell_type": "code",
      "execution_count": null,
      "metadata": {
        "id": "Ud0IPyigdPgh",
        "outputId": "cff0f3e1-b1c1-4805-a102-f5f8dba94da4"
      },
      "outputs": [
        {
          "data": {
            "image/png": "[encoded data removed]",
            "text/plain": [
              "<Figure size 432x288 with 2 Axes>"
            ]
          },
          "metadata": {
            "needs_background": "light"
          },
          "output_type": "display_data"
        }
      ],
      "source": [
        "# Find a good way to display the distribution of weights\n",
        "import matplotlib.pyplot as plt\n",
        "import numpy as np\n",
        "\n",
        "# Generate sample data\n",
        "data = np.random.rand(10, 10)\n",
        "# print(data.shape)\n",
        "# print(weights_0_1.shape)\n",
        "# print(weights_0_1[:10].shape)\n",
        "# print(data)\n",
        "# print(weights_0_1[:10])\n",
        "\n",
        "# Create heatmap using matplotlib\n",
        "plt.imshow(data, cmap='viridis', interpolation='nearest')\n",
        "plt.colorbar()\n",
        "plt.show()"
      ]
    },
    {
      "cell_type": "markdown",
      "metadata": {
        "id": "ZpKR5KvRdPgj"
      },
      "source": [
        "### Write a neural network to predict whether the sentiment of the review is positive or negative"
      ]
    },
    {
      "cell_type": "code",
      "execution_count": 3,
      "metadata": {
        "id": "FS4skx_5dPgk"
      },
      "outputs": [],
      "source": [
        "# Preprocessing Step for IMBD data\n",
        "import sys\n",
        "\n",
        "f = open('reviews.txt')\n",
        "raw_reviews = f.readlines()\n",
        "f.close()\n",
        "\n",
        "f = open('labels.txt')\n",
        "raw_labels = f.readlines()\n",
        "f.close()\n",
        "\n",
        "tokens = list(map(lambda x:set(x.split(\" \")), raw_reviews))\n",
        "\n",
        "vocab = set()\n",
        "for sent in tokens:\n",
        "    for word in sent:\n",
        "        if(len(word)>0):\n",
        "            vocab.add(word)\n",
        "vocab = list(vocab)\n",
        "\n",
        "word2index = {}\n",
        "for i, word in enumerate(vocab):\n",
        "    word2index[word] = i\n",
        "\n",
        "input_dataset = list()\n",
        "for sent in tokens:\n",
        "    sent_indices = list()\n",
        "    for word in sent:\n",
        "        try:\n",
        "            sent_indices.append(word2index[word])\n",
        "        except:\n",
        "            \"\"\n",
        "    input_dataset.append(list(set(sent_indices)))\n",
        "\n",
        "target_dataset = list()\n",
        "for label in raw_labels:\n",
        "    if label == 'positive\\n':\n",
        "        target_dataset.append(1)\n",
        "    else:\n",
        "        target_dataset.append(0)"
      ]
    },
    {
      "cell_type": "code",
      "execution_count": null,
      "metadata": {
        "id": "ztu3hve0dPgk",
        "outputId": "9163d421-8bc8-4f19-bf70-c42cb7a886c1"
      },
      "outputs": [
        {
          "name": "stderr",
          "output_type": "stream",
          "text": [
            "<ipython-input-79-7d51902177a9>:11: RuntimeWarning: overflow encountered in exp\n",
            "  return 1/(1+np.exp(-x))\n"
          ]
        }
      ],
      "source": [
        "# Actual Neural Network\n",
        "# My implementation\n",
        "# Stopped at forward propagation because there is a exp overflow issue\n",
        "import numpy as np\n",
        "np.random.seed(1)\n",
        "\n",
        "# Define a activation function --> Relu and Relu2Deriv\n",
        "relu = lambda x: (x>0) * x\n",
        "relu2deriv = lambda x: x>0\n",
        "\n",
        "# Output activation function to get a value between 0 and 1\n",
        "def sigmoid(x):\n",
        "    return 1/(1+np.exp(-x))\n",
        "\n",
        "alpha, iterations = (0.01, 2)\n",
        "hidden_size = 100\n",
        "\n",
        "weights_0_1 = 0.2*np.random.random((len(vocab), hidden_size)) - 0.1\n",
        "weights_1_2 = 0.2*np.random.random((hidden_size, 1)) - 0.1\n",
        "# Notes on weights_1_2\n",
        "# the network will output one answer if its closer to a zero then its 'negative'\n",
        "# And if its closer to 1 then its positive. The threshold is 0.5 and up is 'positive'.\n",
        "\n",
        "# Could adding a bias get rid of the need for scaling the weights above??\n",
        "bias_0_1 = 0.2*np.random.random((hidden_size)) - 0.1\n",
        "bias_1_2 = 0.2*np.random.random((1,1)) - 0.1\n",
        "\n",
        "for j in range(iterations):\n",
        "    error, correct_cnt =(0.0, 0)\n",
        "\n",
        "    for i in range(len(input_dataset[:10])):\n",
        "        row  = input_dataset[i]\n",
        "        label_number = target_dataset[i]\n",
        "        padded_row = list()\n",
        "        if(len(row) < len(vocab)):\n",
        "            # pad input with -1s\n",
        "            padded_row += row + [-1] * (len(vocab) - len(row))\n",
        "        elif(len(row) == len(vocab)):\n",
        "            # the row does not need any padding\n",
        "            padded_row += row\n",
        "        else:\n",
        "            raise Exception('Length of row exceeded length of vocab which should not be possible.')\n",
        "        layer_0 = padded_row\n",
        "        layer_1 = np.dot(layer_0,weights_0_1) #+ bias_0_1\n",
        "#         print('before:',layer_1.shape)\n",
        "#         print('bias_0_1.shape',bias_0_1.shape)\n",
        "#         layer_1 += bias_0_1\n",
        "#         print('after:',layer_1.shape)\n",
        "        layer_1 = relu(layer_1)\n",
        "        layer_2 = np.dot(layer_1, weights_1_2) #+ bias_1_2\n",
        "        layer_2 = sigmoid(layer_2)\n",
        "        error += np.sum((layer_2-label_number)**2) # Mean Squared Error\n",
        "#         print('layer_2',layer_2)"
      ]
    },
    {
      "cell_type": "code",
      "source": [
        "from google.colab import files\n",
        "\n",
        "uploaded = files.upload()"
      ],
      "metadata": {
        "colab": {
          "base_uri": "https://localhost:8080/",
          "height": 109
        },
        "id": "zb-5lvKZdakk",
        "outputId": "9c988628-ed56-4495-be58-a53ba6b8f167"
      },
      "execution_count": 1,
      "outputs": [
        {
          "output_type": "display_data",
          "data": {
            "text/plain": [
              "<IPython.core.display.HTML object>"
            ],
            "text/html": [
              "\n",
              "     <input type=\"file\" id=\"files-47b60609-b2a6-4f2f-a8a9-396d24e086f4\" name=\"files[]\" multiple disabled\n",
              "        style=\"border:none\" />\n",
              "     <output id=\"result-47b60609-b2a6-4f2f-a8a9-396d24e086f4\">\n",
              "      Upload widget is only available when the cell has been executed in the\n",
              "      current browser session. Please rerun this cell to enable.\n",
              "      </output>\n",
              "      <script>// Copyright 2017 Google LLC\n",
              "//\n",
              "// Licensed under the Apache License, Version 2.0 (the \"License\");\n",
              "// you may not use this file except in compliance with the License.\n",
              "// You may obtain a copy of the License at\n",
              "//\n",
              "//      http://www.apache.org/licenses/LICENSE-2.0\n",
              "//\n",
              "// Unless required by applicable law or agreed to in writing, software\n",
              "// distributed under the License is distributed on an \"AS IS\" BASIS,\n",
              "// WITHOUT WARRANTIES OR CONDITIONS OF ANY KIND, either express or implied.\n",
              "// See the License for the specific language governing permissions and\n",
              "// limitations under the License.\n",
              "\n",
              "/**\n",
              " * @fileoverview Helpers for google.colab Python module.\n",
              " */\n",
              "(function(scope) {\n",
              "function span(text, styleAttributes = {}) {\n",
              "  const element = document.createElement('span');\n",
              "  element.textContent = text;\n",
              "  for (const key of Object.keys(styleAttributes)) {\n",
              "    element.style[key] = styleAttributes[key];\n",
              "  }\n",
              "  return element;\n",
              "}\n",
              "\n",
              "// Max number of bytes which will be uploaded at a time.\n",
              "const MAX_PAYLOAD_SIZE = 100 * 1024;\n",
              "\n",
              "function _uploadFiles(inputId, outputId) {\n",
              "  const steps = uploadFilesStep(inputId, outputId);\n",
              "  const outputElement = document.getElementById(outputId);\n",
              "  // Cache steps on the outputElement to make it available for the next call\n",
              "  // to uploadFilesContinue from Python.\n",
              "  outputElement.steps = steps;\n",
              "\n",
              "  return _uploadFilesContinue(outputId);\n",
              "}\n",
              "\n",
              "// This is roughly an async generator (not supported in the browser yet),\n",
              "// where there are multiple asynchronous steps and the Python side is going\n",
              "// to poll for completion of each step.\n",
              "// This uses a Promise to block the python side on completion of each step,\n",
              "// then passes the result of the previous step as the input to the next step.\n",
              "function _uploadFilesContinue(outputId) {\n",
              "  const outputElement = document.getElementById(outputId);\n",
              "  const steps = outputElement.steps;\n",
              "\n",
              "  const next = steps.next(outputElement.lastPromiseValue);\n",
              "  return Promise.resolve(next.value.promise).then((value) => {\n",
              "    // Cache the last promise value to make it available to the next\n",
              "    // step of the generator.\n",
              "    outputElement.lastPromiseValue = value;\n",
              "    return next.value.response;\n",
              "  });\n",
              "}\n",
              "\n",
              "/**\n",
              " * Generator function which is called between each async step of the upload\n",
              " * process.\n",
              " * @param {string} inputId Element ID of the input file picker element.\n",
              " * @param {string} outputId Element ID of the output display.\n",
              " * @return {!Iterable<!Object>} Iterable of next steps.\n",
              " */\n",
              "function* uploadFilesStep(inputId, outputId) {\n",
              "  const inputElement = document.getElementById(inputId);\n",
              "  inputElement.disabled = false;\n",
              "\n",
              "  const outputElement = document.getElementById(outputId);\n",
              "  outputElement.innerHTML = '';\n",
              "\n",
              "  const pickedPromise = new Promise((resolve) => {\n",
              "    inputElement.addEventListener('change', (e) => {\n",
              "      resolve(e.target.files);\n",
              "    });\n",
              "  });\n",
              "\n",
              "  const cancel = document.createElement('button');\n",
              "  inputElement.parentElement.appendChild(cancel);\n",
              "  cancel.textContent = 'Cancel upload';\n",
              "  const cancelPromise = new Promise((resolve) => {\n",
              "    cancel.onclick = () => {\n",
              "      resolve(null);\n",
              "    };\n",
              "  });\n",
              "\n",
              "  // Wait for the user to pick the files.\n",
              "  const files = yield {\n",
              "    promise: Promise.race([pickedPromise, cancelPromise]),\n",
              "    response: {\n",
              "      action: 'starting',\n",
              "    }\n",
              "  };\n",
              "\n",
              "  cancel.remove();\n",
              "\n",
              "  // Disable the input element since further picks are not allowed.\n",
              "  inputElement.disabled = true;\n",
              "\n",
              "  if (!files) {\n",
              "    return {\n",
              "      response: {\n",
              "        action: 'complete',\n",
              "      }\n",
              "    };\n",
              "  }\n",
              "\n",
              "  for (const file of files) {\n",
              "    const li = document.createElement('li');\n",
              "    li.append(span(file.name, {fontWeight: 'bold'}));\n",
              "    li.append(span(\n",
              "        `(${file.type || 'n/a'}) - ${file.size} bytes, ` +\n",
              "        `last modified: ${\n",
              "            file.lastModifiedDate ? file.lastModifiedDate.toLocaleDateString() :\n",
              "                                    'n/a'} - `));\n",
              "    const percent = span('0% done');\n",
              "    li.appendChild(percent);\n",
              "\n",
              "    outputElement.appendChild(li);\n",
              "\n",
              "    const fileDataPromise = new Promise((resolve) => {\n",
              "      const reader = new FileReader();\n",
              "      reader.onload = (e) => {\n",
              "        resolve(e.target.result);\n",
              "      };\n",
              "      reader.readAsArrayBuffer(file);\n",
              "    });\n",
              "    // Wait for the data to be ready.\n",
              "    let fileData = yield {\n",
              "      promise: fileDataPromise,\n",
              "      response: {\n",
              "        action: 'continue',\n",
              "      }\n",
              "    };\n",
              "\n",
              "    // Use a chunked sending to avoid message size limits. See b/62115660.\n",
              "    let position = 0;\n",
              "    do {\n",
              "      const length = Math.min(fileData.byteLength - position, MAX_PAYLOAD_SIZE);\n",
              "      const chunk = new Uint8Array(fileData, position, length);\n",
              "      position += length;\n",
              "\n",
              "      const base64 = btoa(String.fromCharCode.apply(null, chunk));\n",
              "      yield {\n",
              "        response: {\n",
              "          action: 'append',\n",
              "          file: file.name,\n",
              "          data: base64,\n",
              "        },\n",
              "      };\n",
              "\n",
              "      let percentDone = fileData.byteLength === 0 ?\n",
              "          100 :\n",
              "          Math.round((position / fileData.byteLength) * 100);\n",
              "      percent.textContent = `${percentDone}% done`;\n",
              "\n",
              "    } while (position < fileData.byteLength);\n",
              "  }\n",
              "\n",
              "  // All done.\n",
              "  yield {\n",
              "    response: {\n",
              "      action: 'complete',\n",
              "    }\n",
              "  };\n",
              "}\n",
              "\n",
              "scope.google = scope.google || {};\n",
              "scope.google.colab = scope.google.colab || {};\n",
              "scope.google.colab._files = {\n",
              "  _uploadFiles,\n",
              "  _uploadFilesContinue,\n",
              "};\n",
              "})(self);\n",
              "</script> "
            ]
          },
          "metadata": {}
        },
        {
          "output_type": "stream",
          "name": "stdout",
          "text": [
            "Saving labels.txt to labels.txt\n",
            "Saving reviews.txt to reviews.txt\n"
          ]
        }
      ]
    },
    {
      "cell_type": "code",
      "source": [
        "from google.colab import drive\n",
        "drive.mount('/content/drive')"
      ],
      "metadata": {
        "colab": {
          "base_uri": "https://localhost:8080/"
        },
        "id": "rNUaJrLZwWH0",
        "outputId": "40e743bc-1f6b-4f94-e811-ea558be630a3"
      },
      "execution_count": 3,
      "outputs": [
        {
          "output_type": "stream",
          "name": "stdout",
          "text": [
            "Mounted at /content/drive\n"
          ]
        }
      ]
    },
    {
      "cell_type": "code",
      "execution_count": 5,
      "metadata": {
        "colab": {
          "base_uri": "https://localhost:8080/"
        },
        "id": "a0h-Qis7dPgl",
        "outputId": "e135b8a5-6727-4c05-922d-310507bbbbf7"
      },
      "outputs": [
        {
          "output_type": "stream",
          "name": "stdout",
          "text": [
            "Iter:0 Progress:95.99% Training Accuracy:0.8335%\n",
            "Iter:1 Progress:95.99% Training Accuracy:0.8667916666666666%\n",
            "Test accuracy:0.85\n"
          ]
        }
      ],
      "source": [
        "# Grokking Deep Learning Implementation\n",
        "import numpy as np\n",
        "np.random.seed(1)\n",
        "\n",
        "def sigmoid(x):\n",
        "    return 1/(1 + np.exp(-x))\n",
        "\n",
        "alpha, iterations = (0.01, 2)\n",
        "hidden_size = 100\n",
        "\n",
        "weights_0_1 = 0.2*np.random.random((len(vocab), hidden_size)) - 0.1 # This will contain the trained word embeddings!!!!\n",
        "weights_1_2 = 0.2*np.random.random((hidden_size,1)) - 0.1\n",
        "\n",
        "correct, total = (0,0)\n",
        "for iter in range(iterations):\n",
        "\n",
        "    for i in range(len(input_dataset)-1000): # trains on first 24,000 reviews\n",
        "\n",
        "        x,y = (input_dataset[i],target_dataset[i])\n",
        "        layer_1 = sigmoid(np.sum(weights_0_1[x], axis=0)) # embed + sigmoid. Why sigmoid here?...\n",
        "        # TODO: come back to sum and relearn the significance of the axis\n",
        "        layer_2 = sigmoid(np.dot(layer_1, weights_1_2))\n",
        "\n",
        "        layer_2_delta = layer_2 - y # raw error. Compares the prediction with the truth\n",
        "        layer_1_delta = layer_2_delta.dot(weights_1_2.T) # Backpropagation\n",
        "\n",
        "        weights_0_1[x] -= layer_1_delta * alpha\n",
        "        weights_1_2 -= np.outer(layer_1,layer_2_delta) * alpha\n",
        "\n",
        "        if(np.abs(layer_2_delta) < 0.5):\n",
        "            # How is it being less than 0.5 mean that the prediction is correct??\n",
        "            # Why is the threshold 0.5? Is it a heuristic?\n",
        "            correct += 1\n",
        "        total += 1\n",
        "        if(i % 10 == 9):\n",
        "            progress = str(i/float(len(input_dataset)))\n",
        "            sys.stdout.write('\\rIter:' + str(iter)\\\n",
        "                                + ' Progress:'+progress[2:4]\\\n",
        "                                + '.'+progress[4:6]\\\n",
        "                                +'% Training Accuracy:'\\\n",
        "                                +str(correct/float(total)) + '%')\n",
        "    print()\n",
        "# this is the test data set portion of the code\n",
        "correct, total = (0,0)\n",
        "for i in range(len(input_dataset) - 1000,len(input_dataset)):\n",
        "\n",
        "    x = input_dataset[i]\n",
        "    y = target_dataset[i]\n",
        "\n",
        "    layer_1 = sigmoid(np.sum(weights_0_1[x], axis=0))\n",
        "    layer_2 = sigmoid(np.dot(layer_1, weights_1_2))\n",
        "\n",
        "    if(np.abs(layer_2 - y) < 0.5):\n",
        "        correct += 1\n",
        "    total += 1\n",
        "print(\"Test accuracy:\" + str(correct/float(total)))"
      ]
    },
    {
      "cell_type": "markdown",
      "source": [
        "Filling in the blank"
      ],
      "metadata": {
        "id": "8Y7CZ_ean6-i"
      }
    },
    {
      "cell_type": "code",
      "source": [
        "import sys,random,math\n",
        "from collections import Counter\n",
        "import numpy as np\n",
        "\n",
        "np.random.seed(1)\n",
        "random.seed(1)\n",
        "f = open('reviews.txt')\n",
        "raw_reviews = f.readlines()\n",
        "f.close()\n",
        "\n",
        "tokens = list(map(lambda x:(x.split(\" \")),raw_reviews))\n",
        "wordcnt = Counter()\n",
        "for sent in tokens:\n",
        "    for word in sent:\n",
        "        wordcnt[word] -= 1\n",
        "vocab = list(set(map(lambda x:x[0],wordcnt.most_common()))) # this puts the least common words in first\n",
        "# And its a set of words so there are no duplicate words added to the set. Set python DataStructure(DS)\n",
        "\n",
        "word2index = {}\n",
        "for i,word in enumerate(vocab):\n",
        "    word2index[word]=i\n",
        "\n",
        "concatenated = list()\n",
        "input_dataset = list()\n",
        "for sent in tokens:\n",
        "    sent_indices = list()\n",
        "    for word in sent:\n",
        "        try:\n",
        "            sent_indices.append(word2index[word])\n",
        "            concatenated.append(word2index[word])\n",
        "        except:\n",
        "            \"\"\n",
        "    input_dataset.append(sent_indices)\n",
        "concatenated = np.array(concatenated)\n",
        "random.shuffle(input_dataset)"
      ],
      "metadata": {
        "id": "093YV6-UnzVM"
      },
      "execution_count": 4,
      "outputs": []
    },
    {
      "cell_type": "code",
      "source": [
        "alpha, iterations = (0.05, 2)\n",
        "hidden_size,window,negative = (50,2,5)\n",
        "\n",
        "weights_0_1 = (np.random.rand(len(vocab),hidden_size) - 0.5) * 0.2\n",
        "weights_1_2 = np.random.rand(len(vocab),hidden_size)*0 # The weights from layers 1 - 2 are all 0s.\n",
        "\n",
        "# What are these two for?\n",
        "layer_2_target = np.zeros(negative+1)\n",
        "layer_2_target[0] = 1\n",
        "\n",
        "# Find similarity between words using the embedding weight and euclidean distance formula\n",
        "def similar(target='beautiful'):\n",
        "  target_index = word2index[target]\n",
        "\n",
        "  scores = Counter()\n",
        "  for word,index in word2index.items():\n",
        "    raw_difference = weights_0_1[index] - (weights_0_1[target_index])\n",
        "    squared_difference = raw_difference * raw_difference\n",
        "    scores[word] = -math.sqrt(sum(squared_difference))\n",
        "  return scores.most_common(10)\n",
        "\n",
        "def sigmoid(x):\n",
        "    return 1/(1 + np.exp(-x))\n",
        "\n",
        "for rev_i,review in enumerate(input_dataset * iterations):\n",
        "  for target_i in range(len(review)):\n",
        "    # since it's really expensive to predict every vocabulary\n",
        "    # we're only going to predict a random subset\n",
        "    # TODO understand what this target_samples is...\n",
        "    target_samples = [review[target_i]]+list(concatenated\\\n",
        "    [(np.random.rand(negative)*len(concatenated)).astype('int').tolist()])\n",
        "\n",
        "    # TODO: understand how we use left and right context\n",
        "    # Left context is a window of words before the target\n",
        "    # Right context is a window of words after the target.\n",
        "    # The max and min functions are used to avoid out of bounds exceptions\n",
        "    # left and right contexts are lists\n",
        "    left_context = review[max(0,target_i-window):target_i]\n",
        "    right_context = review[target_i+1:min(len(review),target_i+window)]\n",
        "\n",
        "    # Why do we take the mean of weights_0_1 after getting the embeddings for the left context and\n",
        "    # right context?\n",
        "    # I think this can be explained by the word2vec negative sampling paper\n",
        "    layer_1 = np.mean(weights_0_1[left_context+right_context],axis=0)\n",
        "    layer_2 = sigmoid(layer_1.dot(weights_1_2[target_samples].T))\n",
        "    # Why do we take the target_samples and put it in weights_1_2??\n",
        "    # I think I do not understand weights_1_2\n",
        "    layer_2_delta = layer_2 - layer_2_target\n",
        "    layer_1_delta = layer_2_delta.dot(weights_1_2[target_samples])\n",
        "\n",
        "    weights_0_1[left_context+right_context] -= layer_1_delta * alpha\n",
        "    weights_1_2[target_samples] -= np.outer(layer_2_delta,layer_1)*alpha\n",
        "\n",
        "  if(rev_i % 250 == 0):\n",
        "    sys.stdout.write('\\rProgress:'+str(rev_i/float(len(input_dataset)*iterations)) + \"   \" + str(similar('terrible')))\n",
        "  # sys.stdout.write('\\rProgress:'+str(rev_i/float(len(input_dataset)*iterations)))\n",
        "print(similar('terrible'))"
      ],
      "metadata": {
        "colab": {
          "base_uri": "https://localhost:8080/"
        },
        "id": "iG_A70lHpAxd",
        "outputId": "6323ea5a-0b20-4918-d131-5902ec643823"
      },
      "execution_count": 5,
      "outputs": [
        {
          "output_type": "stream",
          "name": "stdout",
          "text": [
            "Progress:0.995   [('terrible', -0.0), ('horrible', -2.8963534948408167), ('brilliant', -3.2749682491032743), ('superb', -3.642812441762594), ('masterful', -3.8567984723266195), ('pathetic', -3.9437086086620288), ('phenomenal', -3.9550606757583435), ('mediocre', -3.99889190710459), ('terrific', -4.020567790576277), ('marvelous', -4.067778549675154)][('terrible', -0.0), ('horrible', -2.862399202677226), ('brilliant', -3.4766190052069876), ('superb', -3.855859491879266), ('pathetic', -3.8840480659475594), ('masterful', -3.949050018509411), ('bad', -3.9642279263941615), ('mediocre', -4.017503600687672), ('phenomenal', -4.0372739416674746), ('marvelous', -4.097234687262077)]\n"
          ]
        }
      ]
    },
    {
      "cell_type": "code",
      "source": [
        "print(similar('movie'))"
      ],
      "metadata": {
        "colab": {
          "base_uri": "https://localhost:8080/"
        },
        "id": "3wo1k4214JaZ",
        "outputId": "f6e1b839-3219-4584-b70f-16144c3ea62d"
      },
      "execution_count": 8,
      "outputs": [
        {
          "output_type": "stream",
          "name": "stdout",
          "text": [
            "[('movie', -0.0), ('film', -3.8947651212371484), ('documentary', -4.7505790862901005), ('program', -4.805620089328229), ('project', -5.230649447411363), ('show', -5.237190652793311), ('game', -5.311411939473912), ('programme', -5.3844935178311815), ('miniseries', -5.396019546443762), ('contestant', -5.418593183157244)]\n"
          ]
        }
      ]
    }
  ],
  "metadata": {
    "kernelspec": {
      "display_name": "Python 3",
      "name": "python3"
    },
    "language_info": {
      "codemirror_mode": {
        "name": "ipython",
        "version": 3
      },
      "file_extension": ".py",
      "mimetype": "text/x-python",
      "name": "python",
      "nbconvert_exporter": "python",
      "pygments_lexer": "ipython3",
      "version": "3.8.5"
    },
    "colab": {
      "provenance": [],
      "gpuType": "T4",
      "include_colab_link": true
    },
    "accelerator": "GPU"
  },
  "nbformat": 4,
  "nbformat_minor": 0
}