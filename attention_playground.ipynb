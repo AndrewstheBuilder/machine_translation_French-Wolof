{
  "nbformat": 4,
  "nbformat_minor": 0,
  "metadata": {
    "colab": {
      "provenance": [],
      "authorship_tag": "ABX9TyP0VNU8l5uS/gmAvBn/SuNs",
      "include_colab_link": true
    },
    "kernelspec": {
      "name": "python3",
      "display_name": "Python 3"
    },
    "language_info": {
      "name": "python"
    }
  },
  "cells": [
    {
      "cell_type": "markdown",
      "metadata": {
        "id": "view-in-github",
        "colab_type": "text"
      },
      "source": [
        "<a href=\"https://colab.research.google.com/github/AndrewstheBuilder/machine_translation_French-Wolof/blob/main/attention_playground.ipynb\" target=\"_parent\"><img src=\"https://colab.research.google.com/assets/colab-badge.svg\" alt=\"Open In Colab\"/></a>"
      ]
    },
    {
      "cell_type": "markdown",
      "source": [
        "Reading through https://machinelearningmastery.com/the-attention-mechanism-from-scratch/"
      ],
      "metadata": {
        "id": "l-B9Lt_fq7RM"
      }
    },
    {
      "cell_type": "code",
      "source": [
        "import numpy as np\n",
        "import random"
      ],
      "metadata": {
        "id": "Mi3C75DYpLm4"
      },
      "execution_count": 12,
      "outputs": []
    },
    {
      "cell_type": "code",
      "execution_count": 3,
      "metadata": {
        "id": "72Tu8PVOo9no"
      },
      "outputs": [],
      "source": [
        "# encoder representations of four different words\n",
        "word_1 = np.array([1, 0, 0])\n",
        "word_2 = np.array([0, 1, 0])\n",
        "word_3 = np.array([1, 1, 0])\n",
        "word_4 = np.array([0, 0, 1])"
      ]
    },
    {
      "cell_type": "code",
      "source": [
        "# generating the weight matrices\n",
        "random.seed(42) # to allow us to reproduce the same attention values\n",
        "W_Q = np.random.randint(3, size=(3, 3))\n",
        "W_K = np.random.randint(3, size=(3, 3))\n",
        "W_V = np.random.randint(3, size=(3, 3))"
      ],
      "metadata": {
        "id": "yTDG1ILVpIag"
      },
      "execution_count": 10,
      "outputs": []
    },
    {
      "cell_type": "code",
      "source": [
        "W_Q"
      ],
      "metadata": {
        "colab": {
          "base_uri": "https://localhost:8080/"
        },
        "id": "e1-dF114qk51",
        "outputId": "a62fb7b6-435e-46ac-a180-a33284acf842"
      },
      "execution_count": 11,
      "outputs": [
        {
          "output_type": "execute_result",
          "data": {
            "text/plain": [
              "array([[0, 0, 0],\n",
              "       [2, 1, 1],\n",
              "       [2, 0, 1]])"
            ]
          },
          "metadata": {},
          "execution_count": 11
        }
      ]
    }
  ]
}